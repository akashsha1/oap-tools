{
 "cells": [
  {
   "cell_type": "code",
   "execution_count": 1,
   "id": "de263629",
   "metadata": {},
   "outputs": [
    {
     "data": {
      "text/html": [
       "Current session configs: <tt>{'conf': {'spark.driver.extraClassPath': '/usr/lib/hadoop-lzo/lib/*:/usr/lib/hadoop/hadoop-aws.jar:/usr/share/aws/aws-java-sdk/*:/usr/share/aws/emr/goodies/lib/emr-spark-goodies.jar:/usr/share/aws/emr/security/conf:/usr/share/aws/emr/security/lib/*:/usr/share/aws/hmclient/lib/aws-glue-datacatalog-spark-client.jar:/usr/share/java/Hive-JSON-Serde/hive-openx-serde.jar:/usr/share/aws/sagemaker-spark-sdk/lib/sagemaker-spark-sdk.jar:/usr/share/aws/emr/s3select/lib/emr-s3-select-spark-connector.jar:/docker/usr/lib/hadoop-lzo/lib/*:/docker/usr/lib/hadoop/hadoop-aws.jar:/docker/usr/share/aws/aws-java-sdk/*:/docker/usr/share/aws/emr/goodies/lib/emr-spark-goodies.jar:/docker/usr/share/aws/emr/security/conf:/docker/usr/share/aws/emr/security/lib/*:/docker/usr/share/aws/hmclient/lib/aws-glue-datacatalog-spark-client.jar:/docker/usr/share/java/Hive-JSON-Serde/hive-openx-serde.jar:/docker/usr/share/aws/sagemaker-spark-sdk/lib/sagemaker-spark-sdk.jar:/docker/usr/share/aws/emr/s3select/lib/emr-s3-select-spark-connector.jar,file:///opt/benchmark-tools/spark-sql-perf/target/scala-2.12/spark-sql-perf_2.12-0.5.1-SNAPSHOT.jar', 'spark.executor.extraClassPath': '/usr/lib/hadoop-lzo/lib/*:/usr/lib/hadoop/hadoop-aws.jar:/usr/share/aws/aws-java-sdk/*:/usr/share/aws/emr/goodies/lib/emr-spark-goodies.jar:/usr/share/aws/emr/security/conf:/usr/share/aws/emr/security/lib/*:/usr/share/aws/hmclient/lib/aws-glue-datacatalog-spark-client.jar:/usr/share/java/Hive-JSON-Serde/hive-openx-serde.jar:/usr/share/aws/sagemaker-spark-sdk/lib/sagemaker-spark-sdk.jar:/usr/share/aws/emr/s3select/lib/emr-s3-select-spark-connector.jar:/docker/usr/lib/hadoop-lzo/lib/*:/docker/usr/lib/hadoop/hadoop-aws.jar:/docker/usr/share/aws/aws-java-sdk/*:/docker/usr/share/aws/emr/goodies/lib/emr-spark-goodies.jar:/docker/usr/share/aws/emr/security/conf:/docker/usr/share/aws/emr/security/lib/*:/docker/usr/share/aws/hmclient/lib/aws-glue-datacatalog-spark-client.jar:/docker/usr/share/java/Hive-JSON-Serde/hive-openx-serde.jar:/docker/usr/share/aws/sagemaker-spark-sdk/lib/sagemaker-spark-sdk.jar:/docker/usr/share/aws/emr/s3select/lib/emr-s3-select-spark-connector.jar,file:///opt/benchmark-tools/spark-sql-perf/target/scala-2.12/spark-sql-perf_2.12-0.5.1-SNAPSHOT.jar'}, 'proxyUser': 'assumed-role_Local_Administration_haojin', 'kind': 'spark'}</tt><br>"
      ],
      "text/plain": [
       "<IPython.core.display.HTML object>"
      ]
     },
     "metadata": {},
     "output_type": "display_data"
    },
    {
     "data": {
      "text/html": [
       "No active sessions."
      ],
      "text/plain": [
       "<IPython.core.display.HTML object>"
      ]
     },
     "metadata": {},
     "output_type": "display_data"
    }
   ],
   "source": [
    "%%configure -f\n",
    "{\"conf\":{\"spark.driver.extraClassPath\":\"/usr/lib/hadoop-lzo/lib/*:/usr/lib/hadoop/hadoop-aws.jar:/usr/share/aws/aws-java-sdk/*:/usr/share/aws/emr/goodies/lib/emr-spark-goodies.jar:/usr/share/aws/emr/security/conf:/usr/share/aws/emr/security/lib/*:/usr/share/aws/hmclient/lib/aws-glue-datacatalog-spark-client.jar:/usr/share/java/Hive-JSON-Serde/hive-openx-serde.jar:/usr/share/aws/sagemaker-spark-sdk/lib/sagemaker-spark-sdk.jar:/usr/share/aws/emr/s3select/lib/emr-s3-select-spark-connector.jar:/docker/usr/lib/hadoop-lzo/lib/*:/docker/usr/lib/hadoop/hadoop-aws.jar:/docker/usr/share/aws/aws-java-sdk/*:/docker/usr/share/aws/emr/goodies/lib/emr-spark-goodies.jar:/docker/usr/share/aws/emr/security/conf:/docker/usr/share/aws/emr/security/lib/*:/docker/usr/share/aws/hmclient/lib/aws-glue-datacatalog-spark-client.jar:/docker/usr/share/java/Hive-JSON-Serde/hive-openx-serde.jar:/docker/usr/share/aws/sagemaker-spark-sdk/lib/sagemaker-spark-sdk.jar:/docker/usr/share/aws/emr/s3select/lib/emr-s3-select-spark-connector.jar,file:///opt/benchmark-tools/spark-sql-perf/target/scala-2.12/spark-sql-perf_2.12-0.5.1-SNAPSHOT.jar\", \n",
    "        \"spark.executor.extraClassPath\":\"/usr/lib/hadoop-lzo/lib/*:/usr/lib/hadoop/hadoop-aws.jar:/usr/share/aws/aws-java-sdk/*:/usr/share/aws/emr/goodies/lib/emr-spark-goodies.jar:/usr/share/aws/emr/security/conf:/usr/share/aws/emr/security/lib/*:/usr/share/aws/hmclient/lib/aws-glue-datacatalog-spark-client.jar:/usr/share/java/Hive-JSON-Serde/hive-openx-serde.jar:/usr/share/aws/sagemaker-spark-sdk/lib/sagemaker-spark-sdk.jar:/usr/share/aws/emr/s3select/lib/emr-s3-select-spark-connector.jar:/docker/usr/lib/hadoop-lzo/lib/*:/docker/usr/lib/hadoop/hadoop-aws.jar:/docker/usr/share/aws/aws-java-sdk/*:/docker/usr/share/aws/emr/goodies/lib/emr-spark-goodies.jar:/docker/usr/share/aws/emr/security/conf:/docker/usr/share/aws/emr/security/lib/*:/docker/usr/share/aws/hmclient/lib/aws-glue-datacatalog-spark-client.jar:/docker/usr/share/java/Hive-JSON-Serde/hive-openx-serde.jar:/docker/usr/share/aws/sagemaker-spark-sdk/lib/sagemaker-spark-sdk.jar:/docker/usr/share/aws/emr/s3select/lib/emr-s3-select-spark-connector.jar,file:///opt/benchmark-tools/spark-sql-perf/target/scala-2.12/spark-sql-perf_2.12-0.5.1-SNAPSHOT.jar\"}}"
   ]
  },
  {
   "cell_type": "code",
   "execution_count": 2,
   "id": "24874422",
   "metadata": {},
   "outputs": [
    {
     "data": {
      "application/vnd.jupyter.widget-view+json": {
       "model_id": "afd052aa6fc0456697a1c85d8e1154e3",
       "version_major": 2,
       "version_minor": 0
      },
      "text/plain": [
       "VBox()"
      ]
     },
     "metadata": {},
     "output_type": "display_data"
    },
    {
     "name": "stdout",
     "output_type": "stream",
     "text": [
      "Starting Spark application\n"
     ]
    },
    {
     "data": {
      "text/html": [
       "<table>\n",
       "<tr><th>ID</th><th>YARN Application ID</th><th>Kind</th><th>State</th><th>Spark UI</th><th>Driver log</th><th>Current session?</th></tr><tr><td>0</td><td>application_1624151311260_0002</td><td>spark</td><td>idle</td><td><a target=\"_blank\" href=\"http://ip-172-31-13-29.us-east-2.compute.internal:20888/proxy/application_1624151311260_0002/\" class=\"emr-proxy-link\" emr-resource=\"j-2OZPWAMGUF4DT\n",
       "\" application-id=\"application_1624151311260_0002\">Link</a></td><td><a target=\"_blank\" href=\"http://ip-172-31-11-76.us-east-2.compute.internal:8042/node/containerlogs/container_1624151311260_0002_01_000001/livy\" >Link</a></td><td>✔</td></tr></table>"
      ],
      "text/plain": [
       "<IPython.core.display.HTML object>"
      ]
     },
     "metadata": {},
     "output_type": "display_data"
    },
    {
     "data": {
      "application/vnd.jupyter.widget-view+json": {
       "model_id": "",
       "version_major": 2,
       "version_minor": 0
      },
      "text/plain": [
       "FloatProgress(value=0.0, bar_style='info', description='Progress:', layout=Layout(height='25px', width='50%'),…"
      ]
     },
     "metadata": {},
     "output_type": "display_data"
    },
    {
     "name": "stdout",
     "output_type": "stream",
     "text": [
      "SparkSession available as 'spark'.\n"
     ]
    },
    {
     "data": {
      "application/vnd.jupyter.widget-view+json": {
       "model_id": "",
       "version_major": 2,
       "version_minor": 0
      },
      "text/plain": [
       "FloatProgress(value=0.0, bar_style='info', description='Progress:', layout=Layout(height='25px', width='50%'),…"
      ]
     },
     "metadata": {},
     "output_type": "display_data"
    },
    {
     "name": "stdout",
     "output_type": "stream",
     "text": [
      "scale: String = 1\n",
      "format: String = parquet\n",
      "partitionTables: Boolean = true\n",
      "tools_path: String = /opt/benchmark-tools/tpcds-kit/tools\n",
      "data_path: String = s3://aws-emr-resources-348941870272-us-east-2/datagen/tpcds_parquet/1\n",
      "database_name: String = tpcds_parquet_scale_1_db\n",
      "codec: String = snappy\n",
      "clusterByPartitionColumns: Boolean = true\n",
      "useDoubleForDecimal: Boolean = false\n",
      "p: Double = 4.8828125E-4\n",
      "catalog_returns_p: Int = 1\n",
      "catalog_sales_p: Int = 1\n",
      "store_returns_p: Int = 1\n",
      "store_sales_p: Int = 1\n",
      "web_returns_p: Int = 1\n",
      "web_sales_p: Int = 1\n",
      "import com.databricks.spark.sql.perf.tpcds.TPCDSTables\n",
      "tables: com.databricks.spark.sql.perf.tpcds.TPCDSTables = com.databricks.spark.sql.perf.tpcds.TPCDSTables@2e8a95e\n",
      "Data has 6 rows clustered true for 0\n",
      "Generating table call_center in database to s3://aws-emr-resources-348941870272-us-east-2/datagen/tpcds_parquet/1/call_center with save mode Overwrite.\n",
      "Data has 11718 rows clustered true for 0\n",
      "Generating table catalog_page in database to s3://aws-emr-resources-348941870272-us-east-2/datagen/tpcds_parquet/1/catalog_page with save mode Overwrite.\n",
      "Data has 100000 rows clustered true for 0\n",
      "Generating table customer in database to s3://aws-emr-resources-348941870272-us-east-2/datagen/tpcds_parquet/1/customer with save mode Overwrite.\n",
      "Data has 50000 rows clustered true for 0\n",
      "Generating table customer_address in database to s3://aws-emr-resources-348941870272-us-east-2/datagen/tpcds_parquet/1/customer_address with save mode Overwrite.\n",
      "Data has 1920800 rows clustered true for 0\n",
      "Generating table customer_demographics in database to s3://aws-emr-resources-348941870272-us-east-2/datagen/tpcds_parquet/1/customer_demographics with save mode Overwrite.\n",
      "Data has 73049 rows clustered true for 0\n",
      "Generating table date_dim in database to s3://aws-emr-resources-348941870272-us-east-2/datagen/tpcds_parquet/1/date_dim with save mode Overwrite.\n",
      "Data has 7200 rows clustered true for 0\n",
      "Generating table household_demographics in database to s3://aws-emr-resources-348941870272-us-east-2/datagen/tpcds_parquet/1/household_demographics with save mode Overwrite.\n",
      "Data has 20 rows clustered true for 0\n",
      "Generating table income_band in database to s3://aws-emr-resources-348941870272-us-east-2/datagen/tpcds_parquet/1/income_band with save mode Overwrite.\n",
      "Pre-clustering with partitioning columns with query \n",
      "SELECT\n",
      "  inv_date_sk,inv_item_sk,inv_warehouse_sk,inv_quantity_on_hand\n",
      "FROM\n",
      "  inventory_text\n",
      "\n",
      "DISTRIBUTE BY\n",
      "  inv_date_sk\n",
      "            .\n",
      "Generating table inventory in database to s3://aws-emr-resources-348941870272-us-east-2/datagen/tpcds_parquet/1/inventory with save mode Overwrite.\n",
      "Data has 18000 rows clustered true for 0\n",
      "Generating table item in database to s3://aws-emr-resources-348941870272-us-east-2/datagen/tpcds_parquet/1/item with save mode Overwrite.\n",
      "Data has 300 rows clustered true for 0\n",
      "Generating table promotion in database to s3://aws-emr-resources-348941870272-us-east-2/datagen/tpcds_parquet/1/promotion with save mode Overwrite.\n",
      "Data has 35 rows clustered true for 0\n",
      "Generating table reason in database to s3://aws-emr-resources-348941870272-us-east-2/datagen/tpcds_parquet/1/reason with save mode Overwrite.\n",
      "Data has 20 rows clustered true for 0\n",
      "Generating table ship_mode in database to s3://aws-emr-resources-348941870272-us-east-2/datagen/tpcds_parquet/1/ship_mode with save mode Overwrite.\n",
      "Data has 12 rows clustered true for 0\n",
      "Generating table store in database to s3://aws-emr-resources-348941870272-us-east-2/datagen/tpcds_parquet/1/store with save mode Overwrite.\n",
      "Data has 86400 rows clustered true for 0\n",
      "Generating table time_dim in database to s3://aws-emr-resources-348941870272-us-east-2/datagen/tpcds_parquet/1/time_dim with save mode Overwrite.\n",
      "Data has 5 rows clustered true for 0\n",
      "Generating table warehouse in database to s3://aws-emr-resources-348941870272-us-east-2/datagen/tpcds_parquet/1/warehouse with save mode Overwrite.\n",
      "Data has 60 rows clustered true for 0\n",
      "Generating table web_page in database to s3://aws-emr-resources-348941870272-us-east-2/datagen/tpcds_parquet/1/web_page with save mode Overwrite.\n",
      "Data has 30 rows clustered true for 0\n",
      "Generating table web_site in database to s3://aws-emr-resources-348941870272-us-east-2/datagen/tpcds_parquet/1/web_site with save mode Overwrite.\n",
      "Pre-clustering with partitioning columns with query \n",
      "SELECT\n",
      "  cs_sold_date_sk,cs_sold_time_sk,cs_ship_date_sk,cs_bill_customer_sk,cs_bill_cdemo_sk,cs_bill_hdemo_sk,cs_bill_addr_sk,cs_ship_customer_sk,cs_ship_cdemo_sk,cs_ship_hdemo_sk,cs_ship_addr_sk,cs_call_center_sk,cs_catalog_page_sk,cs_ship_mode_sk,cs_warehouse_sk,cs_item_sk,cs_promo_sk,cs_order_number,cs_quantity,cs_wholesale_cost,cs_list_price,cs_sales_price,cs_ext_discount_amt,cs_ext_sales_price,cs_ext_wholesale_cost,cs_ext_list_price,cs_ext_tax,cs_coupon_amt,cs_ext_ship_cost,cs_net_paid,cs_net_paid_inc_tax,cs_net_paid_inc_ship,cs_net_paid_inc_ship_tax,cs_net_profit\n",
      "FROM\n",
      "  catalog_sales_text\n",
      "\n",
      "DISTRIBUTE BY\n",
      "  cs_sold_date_sk\n",
      "            .\n",
      "Generating table catalog_sales in database to s3://aws-emr-resources-348941870272-us-east-2/datagen/tpcds_parquet/1/catalog_sales with save mode Overwrite.\n",
      "Pre-clustering with partitioning columns with query \n",
      "SELECT\n",
      "  cr_returned_date_sk,cr_returned_time_sk,cr_item_sk,cr_refunded_customer_sk,cr_refunded_cdemo_sk,cr_refunded_hdemo_sk,cr_refunded_addr_sk,cr_returning_customer_sk,cr_returning_cdemo_sk,cr_returning_hdemo_sk,cr_returning_addr_sk,cr_call_center_sk,cr_catalog_page_sk,cr_ship_mode_sk,cr_warehouse_sk,cr_reason_sk,cr_order_number,cr_return_quantity,cr_return_amount,cr_return_tax,cr_return_amt_inc_tax,cr_fee,cr_return_ship_cost,cr_refunded_cash,cr_reversed_charge,cr_store_credit,cr_net_loss\n",
      "FROM\n",
      "  catalog_returns_text\n",
      "\n",
      "DISTRIBUTE BY\n",
      "  cr_returned_date_sk\n",
      "            .\n",
      "Generating table catalog_returns in database to s3://aws-emr-resources-348941870272-us-east-2/datagen/tpcds_parquet/1/catalog_returns with save mode Overwrite.\n",
      "Pre-clustering with partitioning columns with query \n",
      "SELECT\n",
      "  ss_sold_date_sk,ss_sold_time_sk,ss_item_sk,ss_customer_sk,ss_cdemo_sk,ss_hdemo_sk,ss_addr_sk,ss_store_sk,ss_promo_sk,ss_ticket_number,ss_quantity,ss_wholesale_cost,ss_list_price,ss_sales_price,ss_ext_discount_amt,ss_ext_sales_price,ss_ext_wholesale_cost,ss_ext_list_price,ss_ext_tax,ss_coupon_amt,ss_net_paid,ss_net_paid_inc_tax,ss_net_profit\n",
      "FROM\n",
      "  store_sales_text\n",
      "\n",
      "DISTRIBUTE BY\n",
      "  ss_sold_date_sk\n",
      "            .\n",
      "Generating table store_sales in database to s3://aws-emr-resources-348941870272-us-east-2/datagen/tpcds_parquet/1/store_sales with save mode Overwrite.\n",
      "Pre-clustering with partitioning columns with query \n",
      "SELECT\n",
      "  sr_returned_date_sk,sr_return_time_sk,sr_item_sk,sr_customer_sk,sr_cdemo_sk,sr_hdemo_sk,sr_addr_sk,sr_store_sk,sr_reason_sk,sr_ticket_number,sr_return_quantity,sr_return_amt,sr_return_tax,sr_return_amt_inc_tax,sr_fee,sr_return_ship_cost,sr_refunded_cash,sr_reversed_charge,sr_store_credit,sr_net_loss\n",
      "FROM\n",
      "  store_returns_text\n",
      "\n",
      "DISTRIBUTE BY\n",
      "  sr_returned_date_sk\n",
      "            .\n",
      "Generating table store_returns in database to s3://aws-emr-resources-348941870272-us-east-2/datagen/tpcds_parquet/1/store_returns with save mode Overwrite.\n",
      "Pre-clustering with partitioning columns with query \n",
      "SELECT\n",
      "  ws_sold_date_sk,ws_sold_time_sk,ws_ship_date_sk,ws_item_sk,ws_bill_customer_sk,ws_bill_cdemo_sk,ws_bill_hdemo_sk,ws_bill_addr_sk,ws_ship_customer_sk,ws_ship_cdemo_sk,ws_ship_hdemo_sk,ws_ship_addr_sk,ws_web_page_sk,ws_web_site_sk,ws_ship_mode_sk,ws_warehouse_sk,ws_promo_sk,ws_order_number,ws_quantity,ws_wholesale_cost,ws_list_price,ws_sales_price,ws_ext_discount_amt,ws_ext_sales_price,ws_ext_wholesale_cost,ws_ext_list_price,ws_ext_tax,ws_coupon_amt,ws_ext_ship_cost,ws_net_paid,ws_net_paid_inc_tax,ws_net_paid_inc_ship,ws_net_paid_inc_ship_tax,ws_net_profit\n",
      "FROM\n",
      "  web_sales_text\n",
      "\n",
      "DISTRIBUTE BY\n",
      "  ws_sold_date_sk\n",
      "            .\n",
      "Generating table web_sales in database to s3://aws-emr-resources-348941870272-us-east-2/datagen/tpcds_parquet/1/web_sales with save mode Overwrite.\n",
      "Pre-clustering with partitioning columns with query \n",
      "SELECT\n",
      "  wr_returned_date_sk,wr_returned_time_sk,wr_item_sk,wr_refunded_customer_sk,wr_refunded_cdemo_sk,wr_refunded_hdemo_sk,wr_refunded_addr_sk,wr_returning_customer_sk,wr_returning_cdemo_sk,wr_returning_hdemo_sk,wr_returning_addr_sk,wr_web_page_sk,wr_reason_sk,wr_order_number,wr_return_quantity,wr_return_amt,wr_return_tax,wr_return_amt_inc_tax,wr_fee,wr_return_ship_cost,wr_refunded_cash,wr_reversed_charge,wr_account_credit,wr_net_loss\n",
      "FROM\n",
      "  web_returns_text\n",
      "\n",
      "DISTRIBUTE BY\n",
      "  wr_returned_date_sk\n",
      "            .\n",
      "Generating table web_returns in database to s3://aws-emr-resources-348941870272-us-east-2/datagen/tpcds_parquet/1/web_returns with save mode Overwrite.\n",
      "Creating external table catalog_sales in database tpcds_parquet_scale_1_db using data stored in s3://aws-emr-resources-348941870272-us-east-2/datagen/tpcds_parquet/1/catalog_sales.\n",
      "Discovering partitions for table catalog_sales.\n",
      "Creating external table catalog_returns in database tpcds_parquet_scale_1_db using data stored in s3://aws-emr-resources-348941870272-us-east-2/datagen/tpcds_parquet/1/catalog_returns.\n",
      "Discovering partitions for table catalog_returns.\n",
      "Creating external table inventory in database tpcds_parquet_scale_1_db using data stored in s3://aws-emr-resources-348941870272-us-east-2/datagen/tpcds_parquet/1/inventory.\n",
      "Discovering partitions for table inventory.\n",
      "Creating external table store_sales in database tpcds_parquet_scale_1_db using data stored in s3://aws-emr-resources-348941870272-us-east-2/datagen/tpcds_parquet/1/store_sales.\n",
      "Discovering partitions for table store_sales.\n",
      "Creating external table store_returns in database tpcds_parquet_scale_1_db using data stored in s3://aws-emr-resources-348941870272-us-east-2/datagen/tpcds_parquet/1/store_returns.\n",
      "Discovering partitions for table store_returns.\n",
      "Creating external table web_sales in database tpcds_parquet_scale_1_db using data stored in s3://aws-emr-resources-348941870272-us-east-2/datagen/tpcds_parquet/1/web_sales.\n",
      "Discovering partitions for table web_sales.\n",
      "Creating external table web_returns in database tpcds_parquet_scale_1_db using data stored in s3://aws-emr-resources-348941870272-us-east-2/datagen/tpcds_parquet/1/web_returns.\n",
      "Discovering partitions for table web_returns.\n",
      "Creating external table call_center in database tpcds_parquet_scale_1_db using data stored in s3://aws-emr-resources-348941870272-us-east-2/datagen/tpcds_parquet/1/call_center.\n",
      "Creating external table catalog_page in database tpcds_parquet_scale_1_db using data stored in s3://aws-emr-resources-348941870272-us-east-2/datagen/tpcds_parquet/1/catalog_page.\n",
      "Creating external table customer in database tpcds_parquet_scale_1_db using data stored in s3://aws-emr-resources-348941870272-us-east-2/datagen/tpcds_parquet/1/customer.\n",
      "Creating external table customer_address in database tpcds_parquet_scale_1_db using data stored in s3://aws-emr-resources-348941870272-us-east-2/datagen/tpcds_parquet/1/customer_address.\n",
      "Creating external table customer_demographics in database tpcds_parquet_scale_1_db using data stored in s3://aws-emr-resources-348941870272-us-east-2/datagen/tpcds_parquet/1/customer_demographics.\n",
      "Creating external table date_dim in database tpcds_parquet_scale_1_db using data stored in s3://aws-emr-resources-348941870272-us-east-2/datagen/tpcds_parquet/1/date_dim.\n",
      "Creating external table household_demographics in database tpcds_parquet_scale_1_db using data stored in s3://aws-emr-resources-348941870272-us-east-2/datagen/tpcds_parquet/1/household_demographics.\n",
      "Creating external table income_band in database tpcds_parquet_scale_1_db using data stored in s3://aws-emr-resources-348941870272-us-east-2/datagen/tpcds_parquet/1/income_band.\n",
      "Creating external table item in database tpcds_parquet_scale_1_db using data stored in s3://aws-emr-resources-348941870272-us-east-2/datagen/tpcds_parquet/1/item.\n",
      "Creating external table promotion in database tpcds_parquet_scale_1_db using data stored in s3://aws-emr-resources-348941870272-us-east-2/datagen/tpcds_parquet/1/promotion.\n",
      "Creating external table reason in database tpcds_parquet_scale_1_db using data stored in s3://aws-emr-resources-348941870272-us-east-2/datagen/tpcds_parquet/1/reason.\n",
      "Creating external table ship_mode in database tpcds_parquet_scale_1_db using data stored in s3://aws-emr-resources-348941870272-us-east-2/datagen/tpcds_parquet/1/ship_mode.\n",
      "Creating external table store in database tpcds_parquet_scale_1_db using data stored in s3://aws-emr-resources-348941870272-us-east-2/datagen/tpcds_parquet/1/store.\n",
      "Creating external table time_dim in database tpcds_parquet_scale_1_db using data stored in s3://aws-emr-resources-348941870272-us-east-2/datagen/tpcds_parquet/1/time_dim.\n",
      "Creating external table warehouse in database tpcds_parquet_scale_1_db using data stored in s3://aws-emr-resources-348941870272-us-east-2/datagen/tpcds_parquet/1/warehouse.\n",
      "Creating external table web_page in database tpcds_parquet_scale_1_db using data stored in s3://aws-emr-resources-348941870272-us-east-2/datagen/tpcds_parquet/1/web_page.\n",
      "Creating external table web_site in database tpcds_parquet_scale_1_db using data stored in s3://aws-emr-resources-348941870272-us-east-2/datagen/tpcds_parquet/1/web_site.\n",
      "The current database has been set to tpcds_parquet_scale_1_db.\n"
     ]
    }
   ],
   "source": [
    "val scale = \"1\"\n",
    "val format = \"parquet\"\n",
    "val partitionTables = true\n",
    "\n",
    "val tools_path = \"/opt/benchmark-tools/tpcds-kit/tools\"\n",
    "val data_path = s\"s3://aws-emr-resources-348941870272-us-east-2/datagen/tpcds_${format}/${scale}\"\n",
    "val database_name = s\"tpcds_${format}_scale_${scale}_db\"\n",
    "val codec = \"snappy\"\n",
    "val clusterByPartitionColumns = partitionTables\n",
    "val useDoubleForDecimal = false\n",
    "\n",
    "val p = scale.toInt / 2048.0\n",
    "val catalog_returns_p = (263 * p + 1).toInt\n",
    "val catalog_sales_p = (2285 * p * 0.5 * 0.5 + 1).toInt\n",
    "val store_returns_p = (429 * p + 1).toInt\n",
    "val store_sales_p = (3164 * p * 0.5 * 0.5 + 1).toInt\n",
    "val web_returns_p = (198 * p + 1).toInt\n",
    "val web_sales_p = (1207 * p * 0.5 * 0.5 + 1).toInt\n",
    "\n",
    "import com.databricks.spark.sql.perf.tpcds.TPCDSTables\n",
    "spark.sqlContext.setConf(s\"spark.sql.$format.compression.codec\", codec)\n",
    "\n",
    "val tables = new TPCDSTables(spark.sqlContext, tools_path, scale, useDoubleForDecimal)\n",
    "tables.genData(data_path, format, true, partitionTables, clusterByPartitionColumns, false, \"call_center\", 1)\n",
    "tables.genData(data_path, format, true, partitionTables, clusterByPartitionColumns, false, \"catalog_page\", 1)\n",
    "tables.genData(data_path, format, true, partitionTables, clusterByPartitionColumns, false, \"customer\", 6)\n",
    "tables.genData(data_path, format, true, partitionTables, clusterByPartitionColumns, false, \"customer_address\", 1)\n",
    "tables.genData(data_path, format, true, partitionTables, clusterByPartitionColumns, false, \"customer_demographics\", 1)\n",
    "tables.genData(data_path, format, true, partitionTables, clusterByPartitionColumns, false, \"date_dim\", 1)\n",
    "tables.genData(data_path, format, true, partitionTables, clusterByPartitionColumns, false, \"household_demographics\", 1)\n",
    "tables.genData(data_path, format, true, partitionTables, clusterByPartitionColumns, false, \"income_band\", 1)\n",
    "tables.genData(data_path, format, true, partitionTables, clusterByPartitionColumns, false, \"inventory\", 6)\n",
    "tables.genData(data_path, format, true, partitionTables, clusterByPartitionColumns, false, \"item\", 1)\n",
    "tables.genData(data_path, format, true, partitionTables, clusterByPartitionColumns, false, \"promotion\", 1)\n",
    "tables.genData(data_path, format, true, partitionTables, clusterByPartitionColumns, false, \"reason\", 1)\n",
    "tables.genData(data_path, format, true, partitionTables, clusterByPartitionColumns, false, \"ship_mode\", 1)\n",
    "tables.genData(data_path, format, true, partitionTables, clusterByPartitionColumns, false, \"store\", 1)\n",
    "tables.genData(data_path, format, true, partitionTables, clusterByPartitionColumns, false, \"time_dim\", 1)\n",
    "tables.genData(data_path, format, true, partitionTables, clusterByPartitionColumns, false, \"warehouse\", 1)\n",
    "tables.genData(data_path, format, true, partitionTables, clusterByPartitionColumns, false, \"web_page\", 1)\n",
    "tables.genData(data_path, format, true, partitionTables, clusterByPartitionColumns, false, \"web_site\", 1)\n",
    "tables.genData(data_path, format, true, partitionTables, clusterByPartitionColumns, false, \"catalog_sales\", catalog_sales_p)\n",
    "tables.genData(data_path, format, true, partitionTables, clusterByPartitionColumns, false, \"catalog_returns\", catalog_returns_p)\n",
    "tables.genData(data_path, format, true, partitionTables, clusterByPartitionColumns, false, \"store_sales\", store_sales_p)\n",
    "tables.genData(data_path, format, true, partitionTables, clusterByPartitionColumns, false, \"store_returns\", store_returns_p)\n",
    "tables.genData(data_path, format, true, partitionTables, clusterByPartitionColumns, false, \"web_sales\", web_sales_p)\n",
    "tables.genData(data_path, format, true, partitionTables, clusterByPartitionColumns, false, \"web_returns\", web_returns_p)\n",
    "tables.createExternalTables(data_path, format, database_name, overwrite = true, discoverPartitions = partitionTables)"
   ]
  },
  {
   "cell_type": "code",
   "execution_count": null,
   "id": "e5e3e2ad",
   "metadata": {},
   "outputs": [],
   "source": [
    "import scala.sys.process._"
   ]
  }
 ],
 "metadata": {
  "kernelspec": {
   "display_name": "Spark",
   "language": "",
   "name": "sparkkernel"
  },
  "language_info": {
   "codemirror_mode": "text/x-scala",
   "mimetype": "text/x-scala",
   "name": "scala",
   "pygments_lexer": "scala"
  }
 },
 "nbformat": 4,
 "nbformat_minor": 5
}
